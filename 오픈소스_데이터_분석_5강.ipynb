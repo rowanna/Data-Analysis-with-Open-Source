{
  "nbformat": 4,
  "nbformat_minor": 0,
  "metadata": {
    "colab": {
      "provenance": [],
      "include_colab_link": true
    },
    "kernelspec": {
      "name": "python3",
      "display_name": "Python 3"
    },
    "language_info": {
      "name": "python"
    }
  },
  "cells": [
    {
      "cell_type": "markdown",
      "metadata": {
        "id": "view-in-github",
        "colab_type": "text"
      },
      "source": [
        "<a href=\"https://colab.research.google.com/github/rowanna/Data-Analysis-with-Open-Source/blob/main/%EC%98%A4%ED%94%88%EC%86%8C%EC%8A%A4_%EB%8D%B0%EC%9D%B4%ED%84%B0_%EB%B6%84%EC%84%9D_5%EA%B0%95.ipynb\" target=\"_parent\"><img src=\"https://colab.research.google.com/assets/colab-badge.svg\" alt=\"Open In Colab\"/></a>"
      ]
    },
    {
      "cell_type": "markdown",
      "source": [
        "# 오픈소스 기반 데이터 분석 5강 - 데이터 저장"
      ],
      "metadata": {
        "id": "O4kC4JMknVnK"
      }
    },
    {
      "cell_type": "markdown",
      "source": [
        "## 5-1 CSV 형식 저장"
      ],
      "metadata": {
        "id": "8DfV0cZLqj_s"
      }
    },
    {
      "cell_type": "code",
      "source": [
        "import pandas as pd\n",
        "\n",
        "data = {\n",
        "    'student_id': [101, 102, 103, 104, 105],\n",
        "    'database_score': [85, 76, 92, 63, 88],\n",
        "    'cloudcomputing_score': [78, 82, 95, 70, 84],\n",
        "    'python_score': [92, 78, 85, 75, 91],\n",
        "    'watch_rate': [0.95, 0.87, 0.99, 0.80, 0.93]\n",
        "}\n",
        "## DataFrame 생성\n",
        "df = pd.DataFrame(data)\n",
        "\n",
        "## CSV 형식 저장\n",
        "df.to_csv('student_analysis.csv', encoding='utf-8', index=False)"
      ],
      "metadata": {
        "id": "DztLRI9gW2lk"
      },
      "execution_count": 11,
      "outputs": []
    },
    {
      "cell_type": "markdown",
      "source": [
        "## 5-2 JSON 형식 저장"
      ],
      "metadata": {
        "id": "CSABzaf3q8XU"
      }
    },
    {
      "cell_type": "code",
      "source": [
        "### 라이브러리 임포트\n",
        "import json\n",
        "import pandas as pd\n",
        "\n",
        "data = {\n",
        "    \"이름\": \"홍길동\",\n",
        "    \"나이\": 25,\n",
        "    \"거주지\": \"서울\",\n",
        "    \"관심사\": [\"프로그래밍\", \"데이터 분석\", \"여행\"]\n",
        "}\n",
        "\n",
        "## json.dump를 이용한 저장\n",
        "with open('output.json', mode='w', encoding='utf-8') as f:\n",
        "    json.dump(data, f, indent=4, ensure_ascii=False)\n",
        "\n",
        "\n",
        "## DataFrame을 이용한 저장\n",
        "df = pd.DataFrame(data)\n",
        "df = pd.DataFrame(data)\n",
        "\n",
        "\n",
        "df.to_json('output_df.json', orient='records', indent=4, force_ascii=False)\n",
        "\n",
        "# column 형태로 출력하기.\n",
        "# df.to_json('output_df.json', orient='columns', indent=4, force_ascii=False)\n"
      ],
      "metadata": {
        "id": "7bAgRpizW7Vj"
      },
      "execution_count": 10,
      "outputs": []
    },
    {
      "cell_type": "markdown",
      "source": [
        "## 5-3 Pandas Dataframe 데이터 추출"
      ],
      "metadata": {
        "id": "NMlsQDHtrA_x"
      }
    },
    {
      "cell_type": "code",
      "source": [
        "import pandas as pd\n",
        "\n",
        "data = {\n",
        "    \"이름\": [\"김철수\", \"이영희\", \"박민수\", \"최지훈\", \"정소희\"],\n",
        "    \"학년\": [1, 2, 3, 4, 2],\n",
        "    \"학점\": [4.2, 3.8, 4.5, 3.9, 3.5],\n",
        "    \"학과\": [\"컴퓨터학\", \"경영학\", \"농학\", \"교육학\", \"영어영문학\"],\n",
        "    \"동아리\": [\"프로그래밍\", \"독서토론\", \"로봇공학\", \"봉사활동\", \"음악감상\"]\n",
        "}\n",
        "df = pd.DataFrame(data)\n",
        "\n",
        "\n",
        "## DataFrame 인덱스 출력\n",
        "print(df.index)\n",
        "\n",
        "## DataFrame 컬럼 출력\n",
        "print(df.columns)\n",
        "\n",
        "## DataFrame 행 출력\n",
        "print(df.values.tolist())\n",
        "\n",
        "\n",
        "## DataFrame 값 출력\n",
        "print(df.values.flatten())\n"
      ],
      "metadata": {
        "id": "dk3xneVAW9_g",
        "colab": {
          "base_uri": "https://localhost:8080/"
        },
        "outputId": "41df741a-55da-4641-ba6e-825a6da1d20d"
      },
      "execution_count": 18,
      "outputs": [
        {
          "output_type": "stream",
          "name": "stdout",
          "text": [
            "RangeIndex(start=0, stop=5, step=1)\n",
            "Index(['이름', '학년', '학점', '학과', '동아리'], dtype='object')\n",
            "[['김철수', 1, 4.2, '컴퓨터학', '프로그래밍'], ['이영희', 2, 3.8, '경영학', '독서토론'], ['박민수', 3, 4.5, '농학', '로봇공학'], ['최지훈', 4, 3.9, '교육학', '봉사활동'], ['정소희', 2, 3.5, '영어영문학', '음악감상']]\n",
            "['김철수' 1 4.2 '컴퓨터학' '프로그래밍' '이영희' 2 3.8 '경영학' '독서토론' '박민수' 3 4.5 '농학'\n",
            " '로봇공학' '최지훈' 4 3.9 '교육학' '봉사활동' '정소희' 2 3.5 '영어영문학' '음악감상']\n"
          ]
        }
      ]
    },
    {
      "cell_type": "markdown",
      "source": [
        "## 5-4 DataFrame 생성 방법"
      ],
      "metadata": {
        "id": "ILJd1GLoseqm"
      }
    },
    {
      "cell_type": "code",
      "source": [
        "import pandas as pd\n",
        "import json\n",
        "\n",
        "data = {\n",
        "    \"이름\": [\"김철수\", \"이영희\", \"박민수\", \"최지훈\", \"정소희\"],\n",
        "    \"학년\": [1, 2, 3, 4, 2],\n",
        "    \"학점\": [4.2, 3.8, 4.5, 3.9, 3.5],\n",
        "    \"학과\": [\"컴퓨터공학\", \"경영학\", \"전자공학\", \"의학\", \"심리학\"],\n",
        "    \"동아리\": [\"프로그래밍\", \"독서토론\", \"로봇공학\", \"봉사활동\", \"음악감상\"]\n",
        "}\n",
        "\n",
        "\n",
        "## 딕셔너리, csv, json으로 부터 DataFrame 생성\n",
        "df1 = pd.DataFrame.from_dict(data)\n",
        "df2 = pd.read_csv('students.csv')\n",
        "df3 = pd.read_json('students.json')\n",
        "\n",
        "\n",
        "\n",
        "\n",
        "\n",
        "## 세가지 방법 결과 비교\n",
        "\n",
        "# (shape : 행과 열의 갯수 튜플 반환)\n",
        "print(df1.shape)\n",
        "print(df2.shape)\n",
        "print(df3.shape)\n"
      ],
      "metadata": {
        "id": "ISnPLEgNXAmi",
        "colab": {
          "base_uri": "https://localhost:8080/"
        },
        "outputId": "0a134cfb-5ee6-4a8a-ddca-e3f0111dcd35"
      },
      "execution_count": 25,
      "outputs": [
        {
          "output_type": "stream",
          "name": "stdout",
          "text": [
            "(5, 5)\n",
            "(5, 5)\n",
            "(5, 5)\n"
          ]
        }
      ]
    },
    {
      "cell_type": "markdown",
      "source": [
        "## 5-5 DataFrame 저장 방법"
      ],
      "metadata": {
        "id": "z1N6lAnwsdyU"
      }
    },
    {
      "cell_type": "code",
      "source": [
        "import pandas as pd\n",
        "\n",
        "data = {\n",
        "    \"이름\": [\"김철수\", \"이영희\", \"박민수\", \"최지훈\", \"정소희\"],\n",
        "    \"학년\": [1, 2, 3, 4, 2],\n",
        "    \"학점\": [4.2, 3.8, 4.5, 3.9, 3.5],\n",
        "    \"학과\": [\"컴퓨터공학\", \"경영학\", \"전자공학\", \"의학\", \"심리학\"],\n",
        "    \"동아리\": [\"프로그래밍\", \"독서토론\", \"로봇공학\", \"봉사활동\", \"음악감상\"]\n",
        "}\n",
        "\n",
        "## Dataframe 생성\n",
        "df = pd.DataFrame(data)\n",
        "\n",
        "\n",
        "## CSV, JSON 형식으로 저장\n",
        "df.to_csv('students1.csv')\n",
        "df.to_json('students1.json')\n",
        "\n",
        "## HTML 형식으로 저장\n",
        "## 방법1\n",
        "# df.to_html('students1.html')\n",
        "## 방법2\n",
        "html_table = df.to_html()\n",
        "with open('student_scores.html', 'w') as f:\n",
        "    f.write(html_table)\n",
        "\n",
        "\n"
      ],
      "metadata": {
        "id": "_dqoWCRoXDrJ"
      },
      "execution_count": 35,
      "outputs": []
    },
    {
      "cell_type": "markdown",
      "source": [
        "## 5-6 실습 시나리오"
      ],
      "metadata": {
        "id": "ifBFAyulsdJb"
      }
    },
    {
      "cell_type": "markdown",
      "source": [
        "## 데이터 수집"
      ],
      "metadata": {
        "id": "muFj6okKyXy6"
      }
    },
    {
      "cell_type": "code",
      "source": [
        "import requests\n",
        "\n",
        "url = \"http://openapi.seoul.go.kr:8088/_____/json/energyUseDataSummaryInfo/1/5/2015\"\n",
        "api_key = '_____'\n",
        "\n",
        "\n",
        "params = {\n",
        "  'key': api_key,\n",
        "  'type': 'json',\n",
        "  'service': 'energyUseDataSummaryInfo',\n",
        "  'start_index': 0,\n",
        "  'end_index': 0,\n",
        "  'year':2015,\n",
        "  'mon': 1\n",
        "}\n",
        "\n",
        "## 데이터 수집\n",
        "response = requests.get(url, params=params)\n",
        "\n",
        "## 호출 성공/실패 출력\n",
        "print(response.json())\n",
        "\n"
      ],
      "metadata": {
        "id": "7yCozmQeXJcO",
        "colab": {
          "base_uri": "https://localhost:8080/"
        },
        "outputId": "4f94b77d-02f5-42a6-956f-f1b46177eb53"
      },
      "execution_count": 34,
      "outputs": [
        {
          "output_type": "stream",
          "name": "stdout",
          "text": [
            "{'energyUseDataSummaryInfo': {'list_total_count': 84, 'RESULT': {'CODE': 'INFO-000', 'MESSAGE': '정상 처리되었습니다'}, 'row': [{'YEAR': '2015', 'MON': '12', 'MM_TYPE': '학교', 'CNT': '4142', 'EUS': '129747032', 'EUS1': '142880159', 'EUS2': '138232678', 'ECO2_1': '-10809386.5', 'ECO2_2': '-4583179.876', 'GUS': '7146196', 'GUS1': '8370038', 'GUS2': '8426789', 'GCO2_1': '-1252217.5', 'GCO2_2': '-2804967.2', 'WUS': '2243488.6', 'WUS1': '2288624.2', 'WUS2': '2348669.6', 'WCO2_1': '-75158.3', 'WCO2_2': '-24952.5556', 'HUS': '1431', 'HUS1': '1946', 'HUS2': '1858', 'HCO2_1': '-471', 'HCO2_2': '-1875.522', 'REG_DATE': '2016-03-05 04:00:01.0'}, {'YEAR': '2015', 'MON': '12', 'MM_TYPE': '개인', 'CNT': '852483', 'EUS': '203388142', 'EUS1': '209110435', 'EUS2': '210601335', 'ECO2_1': '-6467743', 'ECO2_2': '-2742323.032', 'GUS': '40095231', 'GUS1': '44067763', 'GUS2': '47222920', 'GCO2_1': '-5550110.5', 'GCO2_2': '-12432247.52', 'WUS': '13904162.958', 'WUS1': '13901292.844', 'WUS2': '13985482.345', 'WCO2_1': '-39224.6365', 'WCO2_2': '-13022.579318', 'HUS': '21102616.717', 'HUS1': '26420971.573', 'HUS2': '24676994.275', 'HCO2_1': '-4446366.207', 'HCO2_2': '-59658969.202058', 'REG_DATE': '2016-03-05 04:00:01.0'}, {'YEAR': '2015', 'MON': '12', 'MM_TYPE': '소상공인', 'CNT': '13502', 'EUS': '45317360', 'EUS1': '47903086', 'EUS2': '47496110', 'ECO2_1': '-2382238', 'ECO2_2': '-1010068.912', 'GUS': '3587588', 'GUS1': '3976103', 'GUS2': '3978904', 'GCO2_1': '-389915.5', 'GCO2_2': '-873410.72', 'WUS': '1258473.65', 'WUS1': '1274858.8', 'WUS2': '1275190.8', 'WCO2_1': '-16551.15', 'WCO2_2': '-5494.9818', 'HUS': '0', 'HUS1': '0', 'HUS2': '0', 'HCO2_1': '0', 'HCO2_2': '0', 'REG_DATE': '2016-03-05 04:00:01.0'}, {'YEAR': '2015', 'MON': '12', 'MM_TYPE': '종교단체', 'CNT': '288', 'EUS': '3390717', 'EUS1': '3972522', 'EUS2': '3913755', 'ECO2_1': '-552421.5', 'ECO2_2': '-234226.716', 'GUS': '211045', 'GUS1': '234612', 'GUS2': '250167', 'GCO2_1': '-31344.5', 'GCO2_2': '-70211.68', 'WUS': '31990', 'WUS1': '30187', 'WUS2': '29228', 'WCO2_1': '2282.5', 'WCO2_2': '757.79', 'HUS': '0', 'HUS1': '0', 'HUS2': '0', 'HCO2_1': '0', 'HCO2_2': '0', 'REG_DATE': '2016-03-05 04:00:01.0'}, {'YEAR': '2015', 'MON': '12', 'MM_TYPE': '기업', 'CNT': '6661', 'EUS': '445894696', 'EUS1': '482299586', 'EUS2': '475775696', 'ECO2_1': '-33142945', 'ECO2_2': '-14052608.68', 'GUS': '17776013', 'GUS1': '20985549', 'GUS2': '21060548', 'GCO2_1': '-3247035.5', 'GCO2_2': '-7273359.52', 'WUS': '4058540.8', 'WUS1': '4108844.2', 'WUS2': '4089066.4', 'WCO2_1': '-40414.5', 'WCO2_2': '-13417.614', 'HUS': '0', 'HUS1': '0', 'HUS2': '0', 'HCO2_1': '0', 'HCO2_2': '0', 'REG_DATE': '2016-03-05 04:00:01.0'}]}}\n"
          ]
        }
      ]
    },
    {
      "cell_type": "markdown",
      "source": [
        "## 데이터 프레임 생성"
      ],
      "metadata": {
        "id": "d6mT4IxkySzI"
      }
    },
    {
      "cell_type": "code",
      "source": [
        "import pandas as pd\n",
        "\n",
        "## requests로부터 response, body, item 항목 읽기\n",
        "data = response.json()['energyUseDataSummaryInfo']['row']\n",
        "\n",
        "# print(type(data))\n",
        "# print(len(data))\n",
        "# print(data[0])\n",
        "\n",
        "df = pd.DataFrame(data)\n",
        "print(df['ECO2_1']) # 특정 열만 추출\n",
        "\n",
        "\n"
      ],
      "metadata": {
        "id": "HOOo9qTsXLkB",
        "colab": {
          "base_uri": "https://localhost:8080/"
        },
        "outputId": "4137f858-6e70-4103-c1de-eac999e7ea9a"
      },
      "execution_count": 43,
      "outputs": [
        {
          "output_type": "stream",
          "name": "stdout",
          "text": [
            "0    -10809386.5\n",
            "1       -6467743\n",
            "2       -2382238\n",
            "3      -552421.5\n",
            "4      -33142945\n",
            "Name: ECO2_1, dtype: object\n"
          ]
        }
      ]
    },
    {
      "cell_type": "markdown",
      "source": [
        "## 다양항 형식으로 데이터 저장\n"
      ],
      "metadata": {
        "id": "vVG0HYb0ymeM"
      }
    },
    {
      "cell_type": "code",
      "source": [
        "## CSV 형식 데이터 저장\n",
        "df.to_csv('air_pollution.csv', index=False, encoding='utf-8')\n",
        "\n",
        "## JSON 형식 데이터 저장\n",
        "df.to_json('air_pollution.json', indent=4, force_ascii=False)\n",
        "\n",
        "## EXCEL 형식 데이터 저장\n",
        "df.to_excel('air_pollution.xlsx', index=False)\n",
        "\n",
        "## HTML 형식 데이터 저장\n",
        "df.to_html('air_pollution.html' )\n"
      ],
      "metadata": {
        "id": "HW1ZodpgXNhG"
      },
      "execution_count": 48,
      "outputs": []
    }
  ]
}